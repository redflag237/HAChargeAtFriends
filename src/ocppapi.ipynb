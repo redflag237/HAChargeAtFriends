{
 "cells": [
  {
   "cell_type": "markdown",
   "metadata": {},
   "source": [
    "This requests a list of known charging stations"
   ]
  },
  {
   "cell_type": "code",
   "execution_count": 17,
   "metadata": {},
   "outputs": [
    {
     "name": "stdout",
     "output_type": "stream",
     "text": [
      "home:  (51.4322, 6.8797)\n",
      "{'Guid': '29310113-a8b5-498e-98d4-5c31afe38581', 'RowKey': '29310113-a8b5-498e-98d4-5c31afe38581', 'PartitionKey': '254ec41c-2ec4-80fb-0a89-a30088c29e84', 'ConnectorId': 1, 'EvseId': None, 'OwnerGuid': '254ec41c-2ec4-80fb-0a89-a30088c29e84', 'Name': 'Grün', 'CpName': 'Einfahrt', 'Owner': 'jonas@plitt.de', 'OwnerFullName': None, 'UStNr': None, 'Lat': 51.42537351216869, 'Lon': 6.872660953375567, 'AutoApprovalTimeout': 180, 'OperatorId': 0, 'Type': 2196, 'Connector': 0, 'State': 96, 'CurrentState': 'free', 'Available': True, 'IsAvailable': True, 'PriceCalcGuid': '9b6adbf0-03aa-4e3f-ad4e-41a26c164b21', 'Tarif': 32.0, 'ServiceFee': 0.0, 'MinimalFee': 0, 'SunShineRate': 32.0, 'MoonShineRate': 32.0, 'SunShineParkingRate': 0.0, 'MoonShineParkingRate': 0.0, 'Power': 22.0, 'ThumbnailUrl': 'https://cafproduction.blob.core.windows.net/chargepoint/9ddce3eb-20fe-4860-b483-ef15050b3990/9ddce3eb-20fe-4860-b483-ef15050b3990.jpg?221', 'Street': 'Am Bahnhof Broich', 'StreetNumber': '21', 'City': 'Mülheim an der Ruhr', 'Country': 'DE', 'Credit': None, 'OrderSticker': 0, 'ZipCode': 45479, 'PvS': 0, 'PvE': 0, 'Starts': 0, 'Ends': 86400, 'TimeZone': 'W. Europe Standard Time', 'UpdateTicks': 638705436189466607, 'IsOCPP': True, 'IsPrivate': False, 'IsParking': False, 'IsCalibrated': True, 'HasVisibleMeter': False, 'HasInternalMeter': False, 'Location': (51.42537351216869, 6.872660953375567), 'Distance': 0.9}\n",
      "0.9 KM , Einfahrt : free , Tarif: 32.0 , Parken Tag: 0.0 , Parken Nacht: 0.0\n",
      "{'Guid': '5f1cd230-d8ca-4409-802e-4699fe2c886a', 'RowKey': '5f1cd230-d8ca-4409-802e-4699fe2c886a', 'PartitionKey': 'b168e923-f6f9-e2c7-f6e9-51bda02b61e4', 'ConnectorId': 1, 'EvseId': None, 'OwnerGuid': 'b168e923-f6f9-e2c7-f6e9-51bda02b61e4', 'Name': '01', 'CpName': 'Rixtanken', 'Owner': 'stefan.rixecker@gmail.com', 'OwnerFullName': None, 'UStNr': None, 'Lat': 51.4150272, 'Lon': 6.837682791, 'AutoApprovalTimeout': 180, 'OperatorId': 0, 'Type': 2067, 'Connector': 0, 'State': 64, 'CurrentState': 'free', 'Available': True, 'IsAvailable': True, 'PriceCalcGuid': '00000000-0000-0000-0000-000000000000', 'Tarif': 49.0, 'ServiceFee': 0.0, 'MinimalFee': 0, 'SunShineRate': 49.0, 'MoonShineRate': 49.0, 'SunShineParkingRate': 3.85, 'MoonShineParkingRate': 3.85, 'Power': 11.0, 'ThumbnailUrl': None, 'Street': 'Langensiepenstrasse', 'StreetNumber': '39', 'City': 'Mülheim an der Ruhr ', 'Country': 'DE', 'Credit': None, 'OrderSticker': 0, 'ZipCode': 45478, 'PvS': 0, 'PvE': 0, 'Starts': 0, 'Ends': 86400, 'TimeZone': 'W. Europe Standard Time', 'UpdateTicks': 638705436189682710, 'IsOCPP': False, 'IsPrivate': False, 'IsParking': False, 'IsCalibrated': False, 'HasVisibleMeter': False, 'HasInternalMeter': False, 'Location': (51.4150272, 6.837682791), 'Distance': 3.5}\n",
      "3.5 KM , Rixtanken : free , Tarif: 49.0 , Parken Tag: 3.85 , Parken Nacht: 3.85\n",
      "{'Guid': '30bf2d13-36aa-47b7-a80c-7d05c0d6a3e9', 'RowKey': '30bf2d13-36aa-47b7-a80c-7d05c0d6a3e9', 'PartitionKey': '7b630f7f-4bf5-4d4b-abc8-abcd66f123a0', 'ConnectorId': 1, 'EvseId': None, 'OwnerGuid': '7b630f7f-4bf5-4d4b-abc8-abcd66f123a0', 'Name': '01', 'CpName': 'KalteLuzzi', 'Owner': 'mainzer.reitz@googlemail.com', 'OwnerFullName': None, 'UStNr': None, 'Lat': 51.6125963, 'Lon': 7.1058053, 'AutoApprovalTimeout': 180, 'OperatorId': 0, 'Type': 2192, 'Connector': 0, 'State': 64, 'CurrentState': 'free', 'Available': True, 'IsAvailable': True, 'PriceCalcGuid': '00000000-0000-0000-0000-000000000000', 'Tarif': 42.0, 'ServiceFee': 0.0, 'MinimalFee': 0, 'SunShineRate': 42.0, 'MoonShineRate': 42.0, 'SunShineParkingRate': 3.85, 'MoonShineParkingRate': 3.85, 'Power': 11.0, 'ThumbnailUrl': None, 'Street': 'Kalterer Weg', 'StreetNumber': '2', 'City': 'Herten', 'Country': 'DE', 'Credit': None, 'OrderSticker': 0, 'ZipCode': 45701, 'PvS': 0, 'PvE': 0, 'Starts': 0, 'Ends': 86400, 'TimeZone': 'W. Europe Standard Time', 'UpdateTicks': 638705436189478651, 'IsOCPP': False, 'IsPrivate': False, 'IsParking': False, 'IsCalibrated': True, 'HasVisibleMeter': False, 'HasInternalMeter': False, 'Location': (51.6125963, 7.1058053), 'Distance': 25.5}\n",
      "25.5 KM , KalteLuzzi : free , Tarif: 42.0 , Parken Tag: 3.85 , Parken Nacht: 3.85\n",
      "{'Guid': 'e2c0d8fe-3d84-4e85-a857-1cfc9883352b', 'RowKey': 'e2c0d8fe-3d84-4e85-a857-1cfc9883352b', 'PartitionKey': 'e4309d91-e63f-0ec4-8ac8-954ef8595581', 'ConnectorId': 1, 'EvseId': None, 'OwnerGuid': 'e4309d91-e63f-0ec4-8ac8-954ef8595581', 'Name': 'Stadtwald ', 'CpName': 'Stadtwald', 'Owner': 'ingolf.seibert@vodafone.de', 'OwnerFullName': None, 'UStNr': None, 'Lat': 51.1768911, 'Lon': 6.9445811, 'AutoApprovalTimeout': 180, 'OperatorId': 0, 'Type': 2067, 'Connector': 0, 'State': 96, 'CurrentState': 'free', 'Available': True, 'IsAvailable': True, 'PriceCalcGuid': '00000000-0000-0000-0000-000000000000', 'Tarif': 35.0, 'ServiceFee': 0.0, 'MinimalFee': 0, 'SunShineRate': 35.0, 'MoonShineRate': 35.0, 'SunShineParkingRate': 3.85, 'MoonShineParkingRate': 3.85, 'Power': 11.0, 'ThumbnailUrl': '', 'Street': 'Am Stadtwald', 'StreetNumber': '17', 'City': 'Hilden', 'Country': 'DE', 'Credit': None, 'OrderSticker': 1, 'ZipCode': 40724, 'PvS': 0, 'PvE': 0, 'Starts': 0, 'Ends': 86400, 'TimeZone': 'W. Europe Standard Time', 'UpdateTicks': 638705436189754486, 'IsOCPP': False, 'IsPrivate': False, 'IsParking': False, 'IsCalibrated': False, 'HasVisibleMeter': False, 'HasInternalMeter': False, 'Location': (51.1768911, 6.9445811), 'Distance': 28.8}\n",
      "28.8 KM , Stadtwald : free , Tarif: 35.0 , Parken Tag: 3.85 , Parken Nacht: 3.85\n",
      "{'Guid': 'a0e8fd64-05fb-43f9-a8fe-38e10a4c3fb7', 'RowKey': 'a0e8fd64-05fb-43f9-a8fe-38e10a4c3fb7', 'PartitionKey': '6251a9af-f4b9-4380-ac5b-80dd7e7a6cc0', 'ConnectorId': 1, 'EvseId': None, 'OwnerGuid': '6251a9af-f4b9-4380-ac5b-80dd7e7a6cc0', 'Name': 'go-e home 11kW Wuppi', 'CpName': None, 'Owner': 'pogonios@gmail.com', 'OwnerFullName': None, 'UStNr': None, 'Lat': 51.2719404, 'Lon': 7.2587359, 'AutoApprovalTimeout': 180, 'OperatorId': 0, 'Type': 2067, 'Connector': 0, 'State': 96, 'CurrentState': 'free', 'Available': True, 'IsAvailable': True, 'PriceCalcGuid': '00000000-0000-0000-0000-000000000000', 'Tarif': 32.0, 'ServiceFee': 0.0, 'MinimalFee': 0, 'SunShineRate': 32.0, 'MoonShineRate': 32.0, 'SunShineParkingRate': 3.85, 'MoonShineParkingRate': 3.85, 'Power': 11.0, 'ThumbnailUrl': 'https://cafproduction.blob.core.windows.net/chargepoint/4c32c51f-0f82-42b3-8fc1-c16372df2659/a0e8fd64-05fb-43f9-a8fe-38e10a4c3fb7.jpg?7671', 'Street': 'Ehrenberger Str.', 'StreetNumber': '130', 'City': 'Wuppertal', 'Country': 'DE', 'Credit': None, 'OrderSticker': 1, 'ZipCode': 42389, 'PvS': 0, 'PvE': 0, 'Starts': 0, 'Ends': 86400, 'TimeZone': 'W. Europe Standard Time', 'UpdateTicks': 638705436189474755, 'IsOCPP': False, 'IsPrivate': False, 'IsParking': False, 'IsCalibrated': False, 'HasVisibleMeter': False, 'HasInternalMeter': False, 'Location': (51.2719404, 7.2587359), 'Distance': 31.9}\n",
      "31.9 KM , None : free , Tarif: 32.0 , Parken Tag: 3.85 , Parken Nacht: 3.85\n",
      "{'Guid': '24cd3225-f175-45f6-a438-5883136f2fe7', 'RowKey': '24cd3225-f175-45f6-a438-5883136f2fe7', 'PartitionKey': '6251a9af-f4b9-4380-ac5b-80dd7e7a6cc0', 'ConnectorId': 1, 'EvseId': None, 'OwnerGuid': '6251a9af-f4b9-4380-ac5b-80dd7e7a6cc0', 'Name': 'go-e home 11kw wuppi', 'CpName': 'go-e11 Wuppi', 'Owner': 'pogonios@gmail.com', 'OwnerFullName': None, 'UStNr': None, 'Lat': 51.270796996518705, 'Lon': 7.261613277084362, 'AutoApprovalTimeout': 180, 'OperatorId': 0, 'Type': 2067, 'Connector': 0, 'State': 96, 'CurrentState': 'free', 'Available': True, 'IsAvailable': True, 'PriceCalcGuid': '00000000-0000-0000-0000-000000000000', 'Tarif': 32.0, 'ServiceFee': 0.0, 'MinimalFee': 0, 'SunShineRate': 32.0, 'MoonShineRate': 32.0, 'SunShineParkingRate': 3.85, 'MoonShineParkingRate': 3.85, 'Power': 11.0, 'ThumbnailUrl': 'https://cafproduction.blob.core.windows.net/chargepoint/6251a9af-f4b9-4380-ac5b-80dd7e7a6cc0/24cd3225-f175-45f6-a438-5883136f2fe7.jpg?9931', 'Street': 'Ehrenberger Str.', 'StreetNumber': '130', 'City': 'Wuppertal', 'Country': 'DE', 'Credit': None, 'OrderSticker': 0, 'ZipCode': 42389, 'PvS': 0, 'PvE': 0, 'Starts': 0, 'Ends': 86400, 'TimeZone': 'W. Europe Standard Time', 'UpdateTicks': 638705436189474653, 'IsOCPP': False, 'IsPrivate': False, 'IsParking': False, 'IsCalibrated': False, 'HasVisibleMeter': False, 'HasInternalMeter': False, 'Location': (51.270796996518705, 7.261613277084362), 'Distance': 32.1}\n",
      "32.1 KM , go-e11 Wuppi : free , Tarif: 32.0 , Parken Tag: 3.85 , Parken Nacht: 3.85\n",
      "{'Guid': '47be62e6-1c70-4054-90d1-91924a1f25b6', 'RowKey': '47be62e6-1c70-4054-90d1-91924a1f25b6', 'PartitionKey': '8d60b5f9-ba3e-832c-52bf-c40122f8fbb5', 'ConnectorId': 1, 'EvseId': None, 'OwnerGuid': '8d60b5f9-ba3e-832c-52bf-c40122f8fbb5', 'Name': '01', 'CpName': 'Falkenweg', 'Owner': 'Ohlenmar@gmail.com', 'OwnerFullName': None, 'UStNr': None, 'Lat': 51.3565154, 'Lon': 6.423234400000001, 'AutoApprovalTimeout': 180, 'OperatorId': 0, 'Type': 2064, 'Connector': 0, 'State': 192, 'CurrentState': 'free', 'Available': True, 'IsAvailable': True, 'PriceCalcGuid': '00000000-0000-0000-0000-000000000000', 'Tarif': 0.0, 'ServiceFee': 0.0, 'MinimalFee': 0, 'SunShineRate': 0.0, 'MoonShineRate': 0.0, 'SunShineParkingRate': 0.0, 'MoonShineParkingRate': 0.0, 'Power': 0.0, 'ThumbnailUrl': None, 'Street': 'Falkenweg', 'StreetNumber': '3', 'City': 'Kempen', 'Country': 'Germany', 'Credit': None, 'OrderSticker': 0, 'ZipCode': 47906, 'PvS': 0, 'PvE': 0, 'Starts': 0, 'Ends': 86400, 'TimeZone': 'W. Europe Standard Time', 'UpdateTicks': 638705436189482091, 'IsOCPP': False, 'IsPrivate': False, 'IsParking': False, 'IsCalibrated': False, 'HasVisibleMeter': False, 'HasInternalMeter': False, 'Location': (51.3565154, 6.423234400000001), 'Distance': 32.9}\n",
      "32.9 KM , Falkenweg : free , Tarif: 0.0 , Parken Tag: 0.0 , Parken Nacht: 0.0\n",
      "{'Guid': '87a28609-cfe0-4f06-b30e-17dc9f322711', 'RowKey': '87a28609-cfe0-4f06-b30e-17dc9f322711', 'PartitionKey': '4f57353d-d392-2e70-0dc6-58701390d8f0', 'ConnectorId': 1, 'EvseId': None, 'OwnerGuid': '4f57353d-d392-2e70-0dc6-58701390d8f0', 'Name': '01', 'CpName': 'Einfahrt', 'Owner': 'fkn@posteo.de', 'OwnerFullName': None, 'UStNr': None, 'Lat': 51.2578768, 'Lon': 6.4735153, 'AutoApprovalTimeout': 180, 'OperatorId': 0, 'Type': 2067, 'Connector': 0, 'State': 64, 'CurrentState': 'free', 'Available': True, 'IsAvailable': True, 'PriceCalcGuid': '00000000-0000-0000-0000-000000000000', 'Tarif': 33.0, 'ServiceFee': 0.0, 'MinimalFee': 0, 'SunShineRate': 33.0, 'MoonShineRate': 33.0, 'SunShineParkingRate': 0.0, 'MoonShineParkingRate': 0.0, 'Power': 3.7, 'ThumbnailUrl': None, 'Street': 'Josef-Herlitz-Straße', 'StreetNumber': '77', 'City': 'Willich', 'Country': 'Deutschland', 'Credit': None, 'OrderSticker': 0, 'ZipCode': 47877, 'PvS': 0, 'PvE': 0, 'Starts': 0, 'Ends': 86400, 'TimeZone': 'W. Europe Standard Time', 'UpdateTicks': 638705436189473021, 'IsOCPP': False, 'IsPrivate': False, 'IsParking': False, 'IsCalibrated': False, 'HasVisibleMeter': False, 'HasInternalMeter': False, 'Location': (51.2578768, 6.4735153), 'Distance': 34.3}\n",
      "34.3 KM , Einfahrt : free , Tarif: 33.0 , Parken Tag: 0.0 , Parken Nacht: 0.0\n",
      "{'Guid': '232c0b29-b028-4360-a99a-97c3648bc8fa', 'RowKey': '232c0b29-b028-4360-a99a-97c3648bc8fa', 'PartitionKey': '0e261513-d0df-4ea9-bf74-bb5f1c3d7e01', 'ConnectorId': 1, 'EvseId': None, 'OwnerGuid': '0e261513-d0df-4ea9-bf74-bb5f1c3d7e01', 'Name': 'Platz 2', 'CpName': 'Stellplatz ', 'Owner': 'Markus.elling@live.de', 'OwnerFullName': None, 'UStNr': None, 'Lat': 51.7356417, 'Lon': 7.1648129, 'AutoApprovalTimeout': 180, 'OperatorId': 0, 'Type': 2193, 'Connector': 0, 'State': 224, 'CurrentState': 'free', 'Available': True, 'IsAvailable': True, 'PriceCalcGuid': '00000000-0000-0000-0000-000000000000', 'Tarif': 35.0, 'ServiceFee': 0.0, 'MinimalFee': 0, 'SunShineRate': 35.0, 'MoonShineRate': 35.0, 'SunShineParkingRate': 3.85, 'MoonShineParkingRate': 3.85, 'Power': 11.0, 'ThumbnailUrl': '', 'Street': 'Im Hohen Winkel', 'StreetNumber': '47', 'City': 'Haltern am See', 'Country': 'DE', 'Credit': None, 'OrderSticker': 0, 'ZipCode': 45721, 'PvS': 0, 'PvE': 0, 'Starts': 0, 'Ends': 86400, 'TimeZone': 'W. Europe Standard Time', 'UpdateTicks': 638705436189462188, 'IsOCPP': False, 'IsPrivate': False, 'IsParking': False, 'IsCalibrated': True, 'HasVisibleMeter': False, 'HasInternalMeter': False, 'Location': (51.7356417, 7.1648129), 'Distance': 39.1}\n",
      "39.1 KM , Stellplatz  : free , Tarif: 35.0 , Parken Tag: 3.85 , Parken Nacht: 3.85\n",
      "{'Guid': '18aec56d-8c77-429a-aeb7-3bc04e1bb333', 'RowKey': '18aec56d-8c77-429a-aeb7-3bc04e1bb333', 'PartitionKey': '74495afb-c947-48e2-a9ac-cd8b43fab265', 'ConnectorId': 1, 'EvseId': None, 'OwnerGuid': '74495afb-c947-48e2-a9ac-cd8b43fab265', 'Name': 'PK11', 'CpName': 'Hauswand', 'Owner': 'B.dogan@me.com', 'OwnerFullName': None, 'UStNr': None, 'Lat': 51.00863861605692, 'Lon': 6.815291991152739, 'AutoApprovalTimeout': 180, 'OperatorId': 0, 'Type': 2065, 'Connector': 0, 'State': 96, 'CurrentState': 'free', 'Available': True, 'IsAvailable': True, 'PriceCalcGuid': '00000000-0000-0000-0000-000000000000', 'Tarif': 39.0, 'ServiceFee': 0.0, 'MinimalFee': 0, 'SunShineRate': 39.0, 'MoonShineRate': 39.0, 'SunShineParkingRate': 3.85, 'MoonShineParkingRate': 3.85, 'Power': 11.0, 'ThumbnailUrl': 'https://cafproduction.blob.core.windows.net/chargepoint/74495afb-c947-48e2-a9ac-cd8b43fab265/18aec56d-8c77-429a-aeb7-3bc04e1bb333.jpg?7008', 'Street': 'Paul-Klee-Str.', 'StreetNumber': '11', 'City': 'Pulheim', 'Country': 'DE', 'Credit': None, 'OrderSticker': 0, 'ZipCode': 50259, 'PvS': 0, 'PvE': 0, 'Starts': 0, 'Ends': 86400, 'TimeZone': 'W. Europe Standard Time', 'UpdateTicks': 638705436189478429, 'IsOCPP': False, 'IsPrivate': False, 'IsParking': False, 'IsCalibrated': False, 'HasVisibleMeter': False, 'HasInternalMeter': False, 'Location': (51.00863861605692, 6.815291991152739), 'Distance': 47.3}\n",
      "47.3 KM , Hauswand : free , Tarif: 39.0 , Parken Tag: 3.85 , Parken Nacht: 3.85\n",
      "{'Guid': 'a60e146c-85fe-47e4-bbb0-8fe631f4c50b', 'RowKey': 'a60e146c-85fe-47e4-bbb0-8fe631f4c50b', 'PartitionKey': '7083572e-b640-b0b0-4ab6-bf8c8cfe2286', 'ConnectorId': 1, 'EvseId': None, 'OwnerGuid': '7083572e-b640-b0b0-4ab6-bf8c8cfe2286', 'Name': '01', 'CpName': 'Wallbox_Demes', 'Owner': 'Demes1990.ud@gmail.com', 'OwnerFullName': None, 'UStNr': None, 'Lat': 51.8357993, 'Lon': 6.631016499999999, 'AutoApprovalTimeout': 180, 'OperatorId': 0, 'Type': 2193, 'Connector': 0, 'State': 96, 'CurrentState': 'free', 'Available': True, 'IsAvailable': True, 'PriceCalcGuid': '00000000-0000-0000-0000-000000000000', 'Tarif': 43.0, 'ServiceFee': 0.0, 'MinimalFee': 0, 'SunShineRate': 43.0, 'MoonShineRate': 43.0, 'SunShineParkingRate': 0.0, 'MoonShineParkingRate': 0.0, 'Power': 22.0, 'ThumbnailUrl': 'https://cafproduction.blob.core.windows.net/chargepoint/7083572e-b640-b0b0-4ab6-bf8c8cfe2286/a60e146c-85fe-47e4-bbb0-8fe631f4c50b.jpg?8988', 'Street': 'Uhlandstraße', 'StreetNumber': '34', 'City': 'Bocholt', 'Country': 'Germany', 'Credit': None, 'OrderSticker': 0, 'ZipCode': 46397, 'PvS': 0, 'PvE': 0, 'Starts': 0, 'Ends': 86400, 'TimeZone': 'W. Europe Standard Time', 'UpdateTicks': 638705436189477480, 'IsOCPP': False, 'IsPrivate': False, 'IsParking': False, 'IsCalibrated': True, 'HasVisibleMeter': False, 'HasInternalMeter': False, 'Location': (51.8357993, 6.631016499999999), 'Distance': 48.1}\n",
      "48.1 KM , Wallbox_Demes : free , Tarif: 43.0 , Parken Tag: 0.0 , Parken Nacht: 0.0\n"
     ]
    }
   ],
   "source": [
    "import requests\n",
    "from geopy.distance import geodesic\n",
    "import json\n",
    "\n",
    "def parsecoordinates(a):\n",
    "    if isinstance(a, bytes):\n",
    "        a = a.decode('utf-8')\n",
    "    \n",
    "    # Entferne unerwünschte Leerzeichen oder Sonderzeichen\n",
    "    a = a.strip()\n",
    "\n",
    "    latitude, longitude = map(float, a.split(','))\n",
    "    coordinate = (latitude, longitude)\n",
    "    return coordinate\n",
    "\n",
    "homerequest=requests.get('https://ipinfo.io/loc')\n",
    "if(homerequest.status_code!=200):\n",
    "    print('cannot get home location')\n",
    "    exit\n",
    "\n",
    "home = parsecoordinates(homerequest.content)\n",
    "print('home: ', home)\n",
    "\n",
    "\n",
    "csrequest=requests.get('https://appbackend.chargeatfriends.com/api/search')\n",
    "if(csrequest.status_code!=200):\n",
    "    print('network error')\n",
    "    exit\n",
    "\n",
    "cs=csrequest.json();\n",
    "csitems=[]\n",
    "if isinstance(cs, list):  # Prüft, ob die Antwort ein Array ist\n",
    "    for csitem in cs:\n",
    "        # Prüfen, ob die Schlüssel vorhanden sind\n",
    "        if 'Lat' in csitem and 'Lon' in csitem:\n",
    "            location = f\"{csitem['Lat']},{csitem['Lon']}\"\n",
    "            location=parsecoordinates(location)\n",
    "            csitem[\"Location\"]=location\n",
    "            csitem[\"Distance\"] = round((geodesic(home, location).kilometers),1)\n",
    "            #print(csitem)\n",
    "            #print(csitem[\"distance\"],'KM')\n",
    "\n",
    "            if csitem[\"Distance\"] <= 50:\n",
    "                csitems.append(csitem)\n",
    "                #print(\"adding \", csitem)\n",
    "            #else:\n",
    "                #print(\"ignore \", csitem)\n",
    "        else:\n",
    "            print(\"Lat oder Lon fehlt in einem Objekt\")\n",
    "else:\n",
    "    print(\"Die JSON-Daten sind kein Array.\")\n",
    "\n",
    "# Sortiere nach dem Attribut 'Distance'\n",
    "csitems = sorted(csitems, key=lambda x: x['Distance'])\n",
    "for csitem in csitems:\n",
    "    print(csitem)\n",
    "    print(csitem[\"Distance\"],\"KM ,\",csitem[\"CpName\"],\":\",csitem[\"CurrentState\"],\", Tarif:\",csitem[\"Tarif\"],\", Parken Tag:\",csitem[\"SunShineParkingRate\"],\", Parken Nacht:\",csitem[\"MoonShineParkingRate\"])\n"
   ]
  }
 ],
 "metadata": {
  "kernelspec": {
   "display_name": "Python 3",
   "language": "python",
   "name": "python3"
  },
  "language_info": {
   "codemirror_mode": {
    "name": "ipython",
    "version": 3
   },
   "file_extension": ".py",
   "mimetype": "text/x-python",
   "name": "python",
   "nbconvert_exporter": "python",
   "pygments_lexer": "ipython3",
   "version": "3.12.3"
  }
 },
 "nbformat": 4,
 "nbformat_minor": 2
}
